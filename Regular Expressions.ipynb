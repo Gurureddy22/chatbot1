{
 "cells": [
  {
   "cell_type": "code",
   "execution_count": 1,
   "id": "8544d5d4",
   "metadata": {},
   "outputs": [
    {
     "name": "stdout",
     "output_type": "stream",
     "text": [
      "i am going to \n",
      "mlr college \n",
      "to learn the nlp\n"
     ]
    }
   ],
   "source": [
    "print(\"i am going to \\nmlr college \\nto learn the nlp\")"
   ]
  },
  {
   "cell_type": "code",
   "execution_count": 2,
   "id": "089a8be6",
   "metadata": {},
   "outputs": [
    {
     "name": "stdout",
     "output_type": "stream",
     "text": [
      "i am going to \n",
      "mlr college \tto learn the nlp\n"
     ]
    }
   ],
   "source": [
    "print(\"i am going to \\nmlr college \\tto learn the nlp\")"
   ]
  },
  {
   "cell_type": "code",
   "execution_count": 26,
   "id": "c3a44011",
   "metadata": {},
   "outputs": [
    {
     "name": "stdout",
     "output_type": "stream",
     "text": [
      " to learn the nlp\n"
     ]
    }
   ],
   "source": [
    "print(\"i am going to \\r to learn the nlp\")"
   ]
  },
  {
   "cell_type": "code",
   "execution_count": 10,
   "id": "032ca0a8",
   "metadata": {},
   "outputs": [],
   "source": [
    "import re"
   ]
  },
  {
   "cell_type": "code",
   "execution_count": 12,
   "id": "735ac3be",
   "metadata": {},
   "outputs": [
    {
     "data": {
      "text/plain": [
       "'007'"
      ]
     },
     "execution_count": 12,
     "metadata": {},
     "output_type": "execute_result"
    }
   ],
   "source": [
    "import re\n",
    "pattern=r'\\d+'\n",
    "string=\"007 james bond wants to learn the python\"\n",
    "matching=re.match(pattern,string)\n",
    "matching.group()"
   ]
  },
  {
   "cell_type": "code",
   "execution_count": 14,
   "id": "3508d1f8",
   "metadata": {},
   "outputs": [
    {
     "data": {
      "text/plain": [
       "'007'"
      ]
     },
     "execution_count": 14,
     "metadata": {},
     "output_type": "execute_result"
    }
   ],
   "source": [
    "import re\n",
    "pattern=r'\\d+'\n",
    "string=\"james bond 007 wants 008 to learn the python\"\n",
    "matching=re.search(pattern,string)\n",
    "matching.group()"
   ]
  },
  {
   "cell_type": "code",
   "execution_count": 17,
   "id": "bce3d548",
   "metadata": {},
   "outputs": [
    {
     "data": {
      "text/plain": [
       "['007', '008', '36']"
      ]
     },
     "execution_count": 17,
     "metadata": {},
     "output_type": "execute_result"
    }
   ],
   "source": [
    "import re\n",
    "pattern=r'\\d+'\n",
    "string=\"james bond 007 wants 008 to learn the python36\"\n",
    "matching=re.findall(pattern,string)\n",
    "matching"
   ]
  },
  {
   "cell_type": "code",
   "execution_count": 19,
   "id": "e8532e79",
   "metadata": {},
   "outputs": [
    {
     "data": {
      "text/plain": [
       "'james bond *** wants *** to learn the python**'"
      ]
     },
     "execution_count": 19,
     "metadata": {},
     "output_type": "execute_result"
    }
   ],
   "source": [
    "import re\n",
    "pattern=r'\\d'\n",
    "string=\"james bond 007 wants 008 to learn the python36\"\n",
    "matching=re.sub(pattern,\"*\",string)\n",
    "matching"
   ]
  },
  {
   "cell_type": "code",
   "execution_count": 20,
   "id": "9ec0900d",
   "metadata": {},
   "outputs": [],
   "source": [
    "# Test case\n",
    "text = \"\"\"\n",
    "Hello world! Contact us at info@example.com or support123@company.org. Follow us on social media: #AI #MachineLearning.\n",
    "Visit <a href=\"http://example.com\">our website</a> for more details. This is a test with number 1234.\n",
    "\"\"\""
   ]
  },
  {
   "cell_type": "code",
   "execution_count": 21,
   "id": "a54def18",
   "metadata": {},
   "outputs": [
    {
     "data": {
      "text/plain": [
       "['info@example.c', 'support123@company.o']"
      ]
     },
     "execution_count": 21,
     "metadata": {},
     "output_type": "execute_result"
    }
   ],
   "source": [
    "emails=re.findall(r'[a-zA-Z0-9._%+-]+@[a-zA-A0-9.-]+\\.[a-zA-Z{2,}]',text)\n",
    "emails"
   ]
  },
  {
   "cell_type": "code",
   "execution_count": 22,
   "id": "b54ead1e",
   "metadata": {},
   "outputs": [
    {
     "data": {
      "text/plain": [
       "['#AI', '#MachineLearning']"
      ]
     },
     "execution_count": 22,
     "metadata": {},
     "output_type": "execute_result"
    }
   ],
   "source": [
    "##hash tags\n",
    "hash_tags=re.findall(r'#[a-zA-Z0-9]+',text)\n",
    "hash_tags"
   ]
  },
  {
   "cell_type": "code",
   "execution_count": null,
   "id": "19d900b7",
   "metadata": {},
   "outputs": [],
   "source": []
  }
 ],
 "metadata": {
  "kernelspec": {
   "display_name": "Python 3 (ipykernel)",
   "language": "python",
   "name": "python3"
  },
  "language_info": {
   "codemirror_mode": {
    "name": "ipython",
    "version": 3
   },
   "file_extension": ".py",
   "mimetype": "text/x-python",
   "name": "python",
   "nbconvert_exporter": "python",
   "pygments_lexer": "ipython3",
   "version": "3.9.13"
  }
 },
 "nbformat": 4,
 "nbformat_minor": 5
}
